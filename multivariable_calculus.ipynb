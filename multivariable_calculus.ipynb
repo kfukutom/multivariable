{
  "cells": [
    {
      "cell_type": "markdown",
      "metadata": {
        "id": "iBritmqguKDv"
      },
      "source": [
        "**Notebook credit**: Based on the original D2L notebook [here](https://github.com/d2l-ai/d2l-en-colab/blob/master/chapter_appendix-mathematics-for-deep-learning/multivariable-calculus.ipynb)."
      ]
    },
    {
      "cell_type": "markdown",
      "metadata": {
        "origin_pos": 0,
        "id": "G-RJTajfuKDz"
      },
      "source": [
        "# Multivariable Calculus\n",
        "\n",
        "Multivariable calculus is relevant to deep learning because we consider a loss function of potentially billions of weights.\n",
        "\n",
        "## Higher-Dimensional Differentiation\n",
        "What single variable calculus tells us is that if we change a single one of these billions of weights leaving every other one fixed, we know what will happen!  This is nothing more than a function of a single variable, so we can write\n",
        "\n",
        "$$L(w_1+\\epsilon_1, w_2, \\ldots, w_N) \\approx L(w_1, w_2, \\ldots, w_N) + \\epsilon_1 \\frac{d}{dw_1} L(w_1, w_2, \\ldots, w_N).$$\n",
        "\n",
        "\n",
        "We will call the derivative in one variable while fixing the other variables the *partial derivative*, and we will use the notation $\\frac{\\partial}{\\partial w_1}$ for the derivative above.\n",
        "\n",
        "Now, let us take this and change $w_2$ a little bit to $w_2 + \\epsilon_2$:\n",
        "\n",
        "$$\n",
        "\\begin{aligned}\n",
        "L(w_1+\\epsilon_1, w_2+\\epsilon_2, \\ldots, w_N) & \\approx L(w_1, w_2+\\epsilon_2, \\ldots, w_N) + \\epsilon_1 \\frac{\\partial}{\\partial w_1} L(w_1, w_2+\\epsilon_2, \\ldots, w_N+\\epsilon_N) \\\\\n",
        "& \\approx L(w_1, w_2, \\ldots, w_N) \\\\\n",
        "& \\quad + \\epsilon_2\\frac{\\partial}{\\partial w_2} L(w_1, w_2, \\ldots, w_N) \\\\\n",
        "& \\quad + \\epsilon_1 \\frac{\\partial}{\\partial w_1} L(w_1, w_2, \\ldots, w_N) \\\\\n",
        "& \\quad + \\epsilon_1\\epsilon_2\\frac{\\partial}{\\partial w_2}\\frac{\\partial}{\\partial w_1} L(w_1, w_2, \\ldots, w_N) \\\\\n",
        "& \\approx L(w_1, w_2, \\ldots, w_N) \\\\\n",
        "& \\quad + \\epsilon_2\\frac{\\partial}{\\partial w_2} L(w_1, w_2, \\ldots, w_N) \\\\\n",
        "& \\quad + \\epsilon_1 \\frac{\\partial}{\\partial w_1} L(w_1, w_2, \\ldots, w_N).\n",
        "\\end{aligned}\n",
        "$$\n",
        "\n",
        "We have again used the idea that $\\epsilon_1\\epsilon_2$ is a higher order term that we can discard.  By continuing in this manner, we may write that\n",
        "\n",
        "$$\n",
        "L(w_1+\\epsilon_1, w_2+\\epsilon_2, \\ldots, w_N+\\epsilon_N) \\approx L(w_1, w_2, \\ldots, w_N) + \\sum_i \\epsilon_i \\frac{\\partial}{\\partial w_i} L(w_1, w_2, \\ldots, w_N).\n",
        "$$\n",
        "\n",
        "This may look like a mess, but we can make this more familiar by noting that the sum on the right looks exactly like a dot product, so if we let\n",
        "\n",
        "$$\n",
        "\\boldsymbol{\\epsilon} = [\\epsilon_1, \\ldots, \\epsilon_N]^\\top \\; \\text{and} \\;\n",
        "\\nabla_{\\mathbf{x}} L = \\left[\\frac{\\partial L}{\\partial x_1}, \\ldots, \\frac{\\partial L}{\\partial x_N}\\right]^\\top,\n",
        "$$\n",
        "\n",
        "then\n",
        "\n",
        "$$L(\\mathbf{w} + \\boldsymbol{\\epsilon}) \\approx L(\\mathbf{w}) + \\boldsymbol{\\epsilon}\\cdot \\nabla_{\\mathbf{w}} L(\\mathbf{w}).$$\n",
        "\n",
        "We will call the vector $\\nabla_{\\mathbf{w}} L$ the *gradient* of $L$.\n",
        "\n",
        "The qquation above is worth pondering for a moment.  It has exactly the format that we encounter in one dimension, just we have converted everything to vectors and dot products.  It allows us to tell approximately how the function $L$ will change given any perturbation to the input.  As we will see in the next section, this will provide us with an important tool in understanding geometrically how we can learn using information contained in the gradient.\n",
        "\n",
        "But first, let us see this approximation at work with an example.  Suppose that we are working with the function\n",
        "\n",
        "$$\n",
        "f(x, y) = \\log(e^x + e^y) \\text{ with gradient } \\nabla f (x, y) = \\left[\\frac{e^x}{e^x+e^y}, \\frac{e^y}{e^x+e^y}\\right].\n",
        "$$\n",
        "\n",
        "If we look at a point like $(0, \\log(2))$, we see that\n",
        "\n",
        "$$\n",
        "f(x, y) = \\log(3) \\text{ with gradient } \\nabla f (x, y) = \\left[\\frac{1}{3}, \\frac{2}{3}\\right].\n",
        "$$\n",
        "\n",
        "Thus, if we want to approximate $f$ at $(\\epsilon_1, \\log(2) + \\epsilon_2)$,  we see that we should have:\n",
        "\n",
        "$$\n",
        "f(\\epsilon_1, \\log(2) + \\epsilon_2) \\approx \\log(3) + \\frac{1}{3}\\epsilon_1 + \\frac{2}{3}\\epsilon_2.\n",
        "$$\n",
        "\n",
        "We can test this in code to see how good the approximation is.\n"
      ]
    },
    {
      "cell_type": "code",
      "execution_count": null,
      "metadata": {
        "origin_pos": 1,
        "tab": [
          "mxnet"
        ],
        "id": "MWsWWEkSuKD1",
        "outputId": "eefc328b-298b-4cb0-c26c-b903498b7174",
        "colab": {
          "base_uri": "https://localhost:8080/"
        }
      },
      "outputs": [
        {
          "output_type": "stream",
          "name": "stdout",
          "text": [
            " approximation: 1.0819456220014432\n",
            " true value: 1.082124181896434\n"
          ]
        }
      ],
      "source": [
        "%matplotlib inline\n",
        "import numpy as np\n",
        "\n",
        "def f(x, y):\n",
        "    return np.log(np.exp(x) + np.exp(y))\n",
        "def grad_f(x, y):\n",
        "    return np.array([np.exp(x) / (np.exp(x) + np.exp(y)),\n",
        "                     np.exp(y) / (np.exp(x) + np.exp(y))])\n",
        "\n",
        "epsilon = np.array([0.01, -0.03])\n",
        "grad_approx = f(0, np.log(2)) + epsilon.dot(grad_f(0, np.log(2)))\n",
        "true_value = f(0 + epsilon[0], np.log(2) + epsilon[1])\n",
        "print(f' approximation: {grad_approx}\\n true value: {true_value}')"
      ]
    },
    {
      "cell_type": "markdown",
      "metadata": {
        "origin_pos": 4,
        "id": "uNmC0XiVuKD2"
      },
      "source": [
        "## Geometry of Gradients and Gradient Descent\n",
        "Consider the expression from above again:\n",
        "\n",
        "$$\n",
        "L(\\mathbf{w} + \\boldsymbol{\\epsilon}) \\approx L(\\mathbf{w}) + \\boldsymbol{\\epsilon}\\cdot \\nabla_{\\mathbf{w}} L(\\mathbf{w}).\n",
        "$$\n",
        "\n",
        "Let us suppose that we want to use this to help minimize our loss $L$.  Let us understand geometrically the algorithm of gradient descent. What we will do is the following:\n",
        "\n",
        "1. Start with a random choice for the initial parameters $\\mathbf{w}$.\n",
        "2. Find the direction $\\mathbf{v}$ that makes $L$ decrease the most rapidly at $\\mathbf{w}$.\n",
        "3. Take a small step in that direction: $\\mathbf{w} \\rightarrow \\mathbf{w} + \\epsilon\\mathbf{v}$.\n",
        "4. Repeat.\n",
        "\n",
        "The only thing we do not know exactly how to do is to compute the vector $\\mathbf{v}$ in the second step.  We will call such a direction the *direction of steepest descent*.  Using the geometric understanding of dot products, we see that we can rewrite the equation above as\n",
        "\n",
        "$$\n",
        "L(\\mathbf{w} + \\mathbf{v}) \\approx L(\\mathbf{w}) + \\mathbf{v}\\cdot \\nabla_{\\mathbf{w}} L(\\mathbf{w}) = L(\\mathbf{w}) + \\|\\nabla_{\\mathbf{w}} L(\\mathbf{w})\\|\\cos(\\theta).\n",
        "$$\n",
        "\n",
        "Note that we have taken our direction to have length one for convenience, and used $\\theta$ for the angle between $\\mathbf{v}$ and $\\nabla_{\\mathbf{w}} L(\\mathbf{w})$.  If we want to find the direction that decreases $L$ as rapidly as possible, we want to make this expression as negative as possible.  The only way the direction we pick enters into this equation is through $\\cos(\\theta)$, and thus we wish to make this cosine as negative as possible.  Now, recalling the shape of cosine, we can make this as negative as possible by making $\\cos(\\theta) = -1$ or equivalently making the angle between the gradient and our chosen direction to be $\\pi$ radians, or equivalently $180$ degrees.  The only way to achieve this is to head in the exact opposite direction:  pick $\\mathbf{v}$ to point in the exact opposite direction to $\\nabla_{\\mathbf{w}} L(\\mathbf{w})$!\n",
        "\n",
        "This brings us to one of the most important mathematical concepts in machine learning: **the direction of steepest decent points in the direction of $-\\nabla_{\\mathbf{w}}L(\\mathbf{w})$**.  Thus our informal algorithm can be rewritten as follows.\n",
        "\n",
        "1. Start with a random choice for the initial parameters $\\mathbf{w}$.\n",
        "2. Compute $\\nabla_{\\mathbf{w}} L(\\mathbf{w})$.\n",
        "3. Take a small step in the opposite of that direction: $\\mathbf{w} \\rightarrow \\mathbf{w} - \\epsilon\\nabla_{\\mathbf{w}} L(\\mathbf{w})$.\n",
        "4. Repeat.\n",
        "\n",
        "\n",
        "This basic algorithm has been modified and adapted many ways by many researchers, but the core concept remains the same in all of them.  Use the gradient to find the direction that decreases the loss as rapidly as possible, and update the parameters to take a step in that direction.\n"
      ]
    },
    {
      "cell_type": "markdown",
      "source": [
        "\n",
        "## A Note on Mathematical Optimization\n",
        "In deep learning, we rely on numerical optimization techniques for the practical reason that all functions we encounter in the deep learning setting are too complex to minimize explicitly.\n",
        "\n",
        "However, it is a useful exercise to consider what the geometric understanding we obtained above tells us about optimizing functions directly.\n",
        "\n",
        "Suppose that we wish to find the value of $\\mathbf{x}_0$ which minimizes some function $L(\\mathbf{x})$.  Let us suppose that moreover someone gives us a value and tells us that it is the value that minimizes $L$.  Is there anything we can check to see if their answer is even plausible?\n",
        "\n",
        "Again consider the equation:\n",
        "$$\n",
        "L(\\mathbf{x}_0 + \\boldsymbol{\\epsilon}) \\approx L(\\mathbf{x}_0) + \\boldsymbol{\\epsilon}\\cdot \\nabla_{\\mathbf{x}} L(\\mathbf{x}_0).\n",
        "$$\n",
        "\n",
        "If the gradient is not zero, we know that we can take a step in the direction $-\\epsilon \\nabla_{\\mathbf{x}} L(\\mathbf{x}_0)$ to find a value of $L$ that is smaller.  Thus, if we truly are at a minimum, this cannot be the case!  We can conclude that if $\\mathbf{x}_0$ is a minimum, then $\\nabla_{\\mathbf{x}} L(\\mathbf{x}_0) = 0$.  We call points with $\\nabla_{\\mathbf{x}} L(\\mathbf{x}_0) = 0$ *critical points*.\n",
        "\n",
        "This is nice, because in some rare settings, we *can* explicitly find all the points where the gradient is zero, and find the one with the smallest value.\n",
        "\n",
        "For a concrete example, consider the function\n",
        "$$\n",
        "f(x) = 3x^4 - 4x^3 -12x^2.\n",
        "$$\n",
        "\n",
        "This function has derivative\n",
        "$$\n",
        "\\frac{df}{dx} = 12x^3 - 12x^2 -24x = 12x(x-2)(x+1).\n",
        "$$\n",
        "\n",
        "The only possible location of minima are at $x = -1, 0, 2$, where the function takes the values $-5,0, -32$ respectively, and thus we can conclude that we minimize our function when $x = 2$.  A quick plot confirms this.\n"
      ],
      "metadata": {
        "id": "II4AY0i5V87A"
      }
    },
    {
      "cell_type": "code",
      "execution_count": null,
      "metadata": {
        "origin_pos": 5,
        "tab": [
          "mxnet"
        ],
        "id": "8VBiINo8uKD3"
      },
      "outputs": [],
      "source": [
        "x = np.arange(-2, 3, 0.01)\n",
        "f = (3 * x**4) - (4 * x**3) - (12 * x**2)"
      ]
    },
    {
      "cell_type": "code",
      "source": [
        "import matplotlib.pyplot as plt\n",
        "\n",
        "plt.plot(x, f)\n",
        "plt.xlabel(\"x\")\n",
        "plt.ylabel(\"f(x)\")\n",
        "plt.grid(\"on\")\n",
        "plt.show()"
      ],
      "metadata": {
        "colab": {
          "base_uri": "https://localhost:8080/",
          "height": 279
        },
        "id": "kHBGDUP_WRmA",
        "outputId": "e4914847-47a7-4191-d432-02f860bb8890"
      },
      "execution_count": null,
      "outputs": [
        {
          "output_type": "display_data",
          "data": {
            "image/png": "[encoded data removed]",
            "text/plain": [
              "<Figure size 432x288 with 1 Axes>"
            ]
          },
          "metadata": {
            "needs_background": "light"
          }
        }
      ]
    },
    {
      "cell_type": "markdown",
      "metadata": {
        "origin_pos": 8,
        "id": "Jq9VMFd3uKD3"
      },
      "source": [
        "This highlights an important fact to know when working either theoretically or numerically: the only possible points where we can minimize (or maximize) a function will have gradient equal to zero, however, not every point with gradient zero is the true *global* minimum (or maximum).\n"
      ]
    },
    {
      "cell_type": "markdown",
      "source": [
        "\n",
        "## Multivariate Chain Rule\n",
        "Let us suppose that we have a function of four variables ($w, x, y$, and $z$) which we can make by composing many terms:\n",
        "\n",
        "$$\\begin{aligned}f(u, v) & = (u+v)^{2} \\\\u(a, b) & = (a+b)^{2}, \\qquad v(a, b) = (a-b)^{2}, \\\\a(w, x, y, z) & = (w+x+y+z)^{2}, \\qquad b(w, x, y, z) = (w+x-y-z)^2.\\end{aligned}$$\n",
        "\n",
        "Such chains of equations are common when working with neural networks, so trying to understand how to compute gradients of such functions is key.  We can start to see visual hints of this connection in the figure below if we take a look at what variables directly relate to one another.\n",
        "\n",
        "![The function relations above where nodes represent values and edges show functional dependence.](https://github.com/d2l-ai/d2l-en-colab/blob/master/img/chain-net1.svg?raw=1)\n",
        "\n",
        "\n",
        "Nothing stops us from just composing everything from the definitions of $f, u, v, a, b$ above and writing out that\n",
        "\n",
        "$$\n",
        "f(w, x, y, z) = \\left(\\left((w+x+y+z)^2+(w+x-y-z)^2\\right)^2+\\left((w+x+y+z)^2-(w+x-y-z)^2\\right)^2\\right)^2.\n",
        "$$\n",
        "\n",
        "We may then take the derivative by just using single variable derivatives, but if we did that we would quickly find ourself swamped with terms, many of which are repeats!  Indeed, one can see that, for instance:\n",
        "\n",
        "$$\n",
        "\\begin{aligned}\n",
        "\\frac{\\partial f}{\\partial w} & = 2 \\left(2 \\left(2 (w + x + y + z) - 2 (w + x - y - z)\\right) \\left((w + x + y + z)^{2}- (w + x - y - z)^{2}\\right) + \\right.\\\\\n",
        "& \\left. \\quad 2 \\left(2 (w + x - y - z) + 2 (w + x + y + z)\\right) \\left((w + x - y - z)^{2}+ (w + x + y + z)^{2}\\right)\\right) \\times \\\\\n",
        "& \\quad \\left(\\left((w + x + y + z)^{2}- (w + x - y - z)^2\\right)^{2}+ \\left((w + x - y - z)^{2}+ (w + x + y + z)^{2}\\right)^{2}\\right).\n",
        "\\end{aligned}\n",
        "$$\n",
        "\n",
        "If we then also wanted to compute $\\frac{\\partial f}{\\partial x}$, we would end up with a similar equation again with many repeated terms, and many *shared* repeated terms between the two derivatives.  This represents a massive quantity of wasted work, and if we needed to compute derivatives this way, the whole deep learning revolution would have stalled out before it began!\n",
        "\n",
        "\n",
        "Let us break up the problem.  We will start by trying to understand how $f$ changes when we change $a$, essentially assuming that $w, x, y$, and $z$ all do not exist.  We will reason as we did back when we worked with the gradient for the first time.  Let us take $a$ and add a small amount $\\epsilon$ to it.\n",
        "\n",
        "$$\n",
        "\\begin{aligned}\n",
        "& f(u(a+\\epsilon, b), v(a+\\epsilon, b)) \\\\\n",
        "\\approx & f\\left(u(a, b) + \\epsilon\\frac{\\partial u}{\\partial a}(a, b), v(a, b) + \\epsilon\\frac{\\partial v}{\\partial a}(a, b)\\right) \\\\\n",
        "\\approx & f(u(a, b), v(a, b)) + \\epsilon\\left[\\frac{\\partial f}{\\partial u}(u(a, b), v(a, b))\\frac{\\partial u}{\\partial a}(a, b) + \\frac{\\partial f}{\\partial v}(u(a, b), v(a, b))\\frac{\\partial v}{\\partial a}(a, b)\\right].\n",
        "\\end{aligned}\n",
        "$$\n",
        "\n",
        "The first line follows from the definition of partial derivative, and the second follows from the definition of gradient.  It is notationally burdensome to track exactly where we evaluate every derivative, as in the expression $\\frac{\\partial f}{\\partial u}(u(a, b), v(a, b))$, so we often abbreviate this to the much more memorable\n",
        "\n",
        "$$\n",
        "\\frac{\\partial f}{\\partial a} = \\frac{\\partial f}{\\partial u}\\frac{\\partial u}{\\partial a}+\\frac{\\partial f}{\\partial v}\\frac{\\partial v}{\\partial a}.\n",
        "$$\n",
        "\n",
        "It is useful to think about the meaning of the process. We are trying to understand how a function of the form $f(u(a, b), v(a, b))$ changes its value with a change in $a$.  There are two pathways this can occur: there is the pathway where $a \\rightarrow u \\rightarrow f$ and where $a \\rightarrow v \\rightarrow f$.  We can compute both of these contributions via the chain rule: $\\frac{\\partial w}{\\partial u} \\cdot \\frac{\\partial u}{\\partial x}$ and $\\frac{\\partial w}{\\partial v} \\cdot \\frac{\\partial v}{\\partial x}$ respectively, and added up.\n",
        "\n",
        "Imagine we have a different network of functions where the functions on the right depend on those that are connected to on the left as is shown below:\n",
        "\n",
        "![Another more subtle example of the chain rule.](https://github.com/d2l-ai/d2l-en-colab/blob/master/img/chain-net2.svg?raw=1)\n",
        "\n",
        "\n",
        "To compute something like $\\frac{\\partial f}{\\partial y}$, we need to sum over all (in this case $3$) paths from $y$ to $f$ giving\n",
        "\n",
        "$$\n",
        "\\frac{\\partial f}{\\partial y} = \\frac{\\partial f}{\\partial a} \\frac{\\partial a}{\\partial u} \\frac{\\partial u}{\\partial y} + \\frac{\\partial f}{\\partial u} \\frac{\\partial u}{\\partial y} + \\frac{\\partial f}{\\partial b} \\frac{\\partial b}{\\partial v} \\frac{\\partial v}{\\partial y}.\n",
        "$$\n",
        "\n",
        "Understanding the chain rule in this way pays great dividends when trying to understand how gradients flow through networks, and why various architectural choices like those in LSTMs or residual layers (some of which we may see later in the course) can help shape the learning process by controlling gradient flow.\n"
      ],
      "metadata": {
        "id": "zuvGnGjAXESE"
      }
    },
    {
      "cell_type": "markdown",
      "source": [
        "\n",
        "## The Backpropagation Algorithm\n",
        "\n",
        "Let us return to the example of the previous section where\n",
        "\n",
        "$$\n",
        "\\begin{aligned}\n",
        "f(u, v) & = (u+v)^{2} \\\\\n",
        "u(a, b) & = (a+b)^{2}, \\qquad v(a, b) = (a-b)^{2}, \\\\\n",
        "a(w, x, y, z) & = (w+x+y+z)^{2}, \\qquad b(w, x, y, z) = (w+x-y-z)^2.\n",
        "\\end{aligned}\n",
        "$$\n",
        "\n",
        "If we want to compute say $\\frac{\\partial f}{\\partial w}$ we may apply the multi-variate chain rule to see:\n",
        "\n",
        "$$\n",
        "\\begin{aligned}\n",
        "\\frac{\\partial f}{\\partial w} & = \\frac{\\partial f}{\\partial u}\\frac{\\partial u}{\\partial w} + \\frac{\\partial f}{\\partial v}\\frac{\\partial v}{\\partial w}, \\\\\n",
        "\\frac{\\partial u}{\\partial w} & = \\frac{\\partial u}{\\partial a}\\frac{\\partial a}{\\partial w}+\\frac{\\partial u}{\\partial b}\\frac{\\partial b}{\\partial w}, \\\\\n",
        "\\frac{\\partial v}{\\partial w} & = \\frac{\\partial v}{\\partial a}\\frac{\\partial a}{\\partial w}+\\frac{\\partial v}{\\partial b}\\frac{\\partial b}{\\partial w}.\n",
        "\\end{aligned}\n",
        "$$\n",
        "\n",
        "Let us try using this decomposition to compute $\\frac{\\partial f}{\\partial w}$.  Notice that all we need here are the various single step partials:\n",
        "\n",
        "$$\n",
        "\\begin{aligned}\n",
        "\\frac{\\partial f}{\\partial u} = 2(u+v), & \\quad\\frac{\\partial f}{\\partial v} = 2(u+v), \\\\\n",
        "\\frac{\\partial u}{\\partial a} = 2(a+b), & \\quad\\frac{\\partial u}{\\partial b} = 2(a+b), \\\\\n",
        "\\frac{\\partial v}{\\partial a} = 2(a-b), & \\quad\\frac{\\partial v}{\\partial b} = -2(a-b), \\\\\n",
        "\\frac{\\partial a}{\\partial w} = 2(w+x+y+z), & \\quad\\frac{\\partial b}{\\partial w} = 2(w+x-y-z).\n",
        "\\end{aligned}\n",
        "$$\n",
        "\n",
        "If we write this out into code this becomes a fairly manageable expression.\n"
      ],
      "metadata": {
        "id": "AQxhpzesyBsP"
      }
    },
    {
      "cell_type": "code",
      "execution_count": null,
      "metadata": {
        "origin_pos": 9,
        "tab": [
          "mxnet"
        ],
        "id": "jeA_GMEGuKD5",
        "outputId": "28f1a42a-334f-451f-9b92-c0aa62504cd5",
        "colab": {
          "base_uri": "https://localhost:8080/"
        }
      },
      "outputs": [
        {
          "output_type": "stream",
          "name": "stdout",
          "text": [
            "    f at -1, 0, -2, 1 is 1024\n"
          ]
        }
      ],
      "source": [
        "# Compute the value of the function from inputs to outputs\n",
        "w, x, y, z = -1, 0, -2, 1\n",
        "a, b = (w + x + y + z)**2, (w + x - y - z)**2\n",
        "u, v = (a + b)**2, (a - b)**2\n",
        "f = (u + v)**2\n",
        "print(f'    f at {w}, {x}, {y}, {z} is {f}')\n"
      ]
    },
    {
      "cell_type": "code",
      "source": [
        "# Compute the single step partials\n",
        "df_du, df_dv = 2*(u + v), 2*(u + v)\n",
        "du_da, du_db, dv_da, dv_db = 2*(a + b), 2*(a + b), 2*(a - b), -2*(a - b)\n",
        "da_dw, db_dw = 2*(w + x + y + z), 2*(w + x - y - z)\n",
        "\n",
        "# Compute the final result from inputs to outputs\n",
        "du_dw, dv_dw = du_da*da_dw + du_db*db_dw, dv_da*da_dw + dv_db*db_dw\n",
        "df_dw = df_du*du_dw + df_dv*dv_dw\n",
        "print(f'df/dw at {w}, {x}, {y}, {z} is {df_dw}')"
      ],
      "metadata": {
        "colab": {
          "base_uri": "https://localhost:8080/"
        },
        "id": "mFGRzpZDyV1O",
        "outputId": "3e6299e2-dfef-4b05-c2eb-563719f67ba3"
      },
      "execution_count": null,
      "outputs": [
        {
          "output_type": "stream",
          "name": "stdout",
          "text": [
            "df/dw at -1, 0, -2, 1 is -4096\n"
          ]
        }
      ]
    },
    {
      "cell_type": "markdown",
      "source": [
        "Same calculation in TensorFlow is even easier because of its automatic differentiation engine."
      ],
      "metadata": {
        "id": "3UKARn8az7LT"
      }
    },
    {
      "cell_type": "code",
      "source": [
        "import tensorflow as tf\n",
        "\n",
        "with tf.GradientTape() as tape:\n",
        "  # Define values for variables\n",
        "  w = tf.Variable(-1.)\n",
        "  x = tf.Variable(0.)\n",
        "  y = tf.Variable(-2.)\n",
        "  z = tf.Variable(1.)\n",
        "\n",
        "  # Define functions\n",
        "  a, b = (w + x + y + z)**2, (w + x - y - z)**2\n",
        "  u, v = (a + b)**2, (a - b)**2\n",
        "  f = (u + v)**2\n",
        "\n",
        "# Get the gradient\n",
        "df_dw = tape.gradient(f, w)\n",
        "\n",
        "# Extract numerical values from TF variables and print\n",
        "w, x, y, z = map(lambda x: x.numpy(), [w, x, y, z])\n",
        "print(f'df/dw at {w}, {x}, {y}, {z} is {df_dw}')"
      ],
      "metadata": {
        "colab": {
          "base_uri": "https://localhost:8080/"
        },
        "id": "ffMihFAgyfTP",
        "outputId": "8b2b4d8e-63ff-4d8e-dad7-df0e0b79cf7f"
      },
      "execution_count": null,
      "outputs": [
        {
          "output_type": "stream",
          "name": "stdout",
          "text": [
            "df/dw at -1.0, 0.0, -2.0, 1.0 is -4096.0\n"
          ]
        }
      ]
    },
    {
      "cell_type": "markdown",
      "metadata": {
        "origin_pos": 10,
        "id": "TFjjtiGuuKD7"
      },
      "source": [
        "However, note that this still does not make it easy to compute something like $\\frac{\\partial f}{\\partial x}$.  The reason for that is the *way* we chose to apply the chain rule.  If we look at what we did above, we always kept $\\partial w$ in the denominator when we could.  In this way, we chose to apply the chain rule seeing how $w$ changed every other variable.  If that is what we wanted, this would be a good idea.  However, think back to our motivation from deep learning: we want to see how every parameter changes the *loss*.  In essence, we want to apply the chain rule keeping $\\partial f$ in the numerator whenever we can!\n",
        "\n",
        "To be more explicit, note that we can write\n",
        "\n",
        "$$\n",
        "\\begin{aligned}\n",
        "\\frac{\\partial f}{\\partial w} & = \\frac{\\partial f}{\\partial a}\\frac{\\partial a}{\\partial w} + \\frac{\\partial f}{\\partial b}\\frac{\\partial b}{\\partial w}, \\\\\n",
        "\\frac{\\partial f}{\\partial a} & = \\frac{\\partial f}{\\partial u}\\frac{\\partial u}{\\partial a}+\\frac{\\partial f}{\\partial v}\\frac{\\partial v}{\\partial a}, \\\\\n",
        "\\frac{\\partial f}{\\partial b} & = \\frac{\\partial f}{\\partial u}\\frac{\\partial u}{\\partial b}+\\frac{\\partial f}{\\partial v}\\frac{\\partial v}{\\partial b}.\n",
        "\\end{aligned}\n",
        "$$\n",
        "\n",
        "Note that this application of the chain rule has us explicitly compute $\\frac{\\partial f}{\\partial u}, \\frac{\\partial f}{\\partial v}, \\frac{\\partial f}{\\partial a}, \\frac{\\partial f}{\\partial b}, \\; \\text{and} \\; \\frac{\\partial f}{\\partial w}$.  Nothing stops us from also including the equations:\n",
        "\n",
        "$$\n",
        "\\begin{aligned}\n",
        "\\frac{\\partial f}{\\partial x} & = \\frac{\\partial f}{\\partial a}\\frac{\\partial a}{\\partial x} + \\frac{\\partial f}{\\partial b}\\frac{\\partial b}{\\partial x}, \\\\\n",
        "\\frac{\\partial f}{\\partial y} & = \\frac{\\partial f}{\\partial a}\\frac{\\partial a}{\\partial y}+\\frac{\\partial f}{\\partial b}\\frac{\\partial b}{\\partial y}, \\\\\n",
        "\\frac{\\partial f}{\\partial z} & = \\frac{\\partial f}{\\partial a}\\frac{\\partial a}{\\partial z}+\\frac{\\partial f}{\\partial b}\\frac{\\partial b}{\\partial z}.\n",
        "\\end{aligned}\n",
        "$$\n",
        "\n",
        "and then keeping track of how $f$ changes when we change *any* node in the entire network.  Let us implement it.\n"
      ]
    },
    {
      "cell_type": "code",
      "execution_count": null,
      "metadata": {
        "origin_pos": 11,
        "tab": [
          "mxnet"
        ],
        "id": "acmkEM5ouKD8",
        "outputId": "c1076044-3a63-4eec-e961-a6bd99994879",
        "colab": {
          "base_uri": "https://localhost:8080/"
        }
      },
      "outputs": [
        {
          "output_type": "stream",
          "name": "stdout",
          "text": [
            "f at -1, 0, -2, 1 is 1024\n",
            "df/dw at -1, 0, -2, 1 is -4096\n",
            "df/dx at -1, 0, -2, 1 is -4096\n",
            "df/dy at -1, 0, -2, 1 is -4096\n",
            "df/dz at -1, 0, -2, 1 is -4096\n"
          ]
        }
      ],
      "source": [
        "# Compute the value of the function from inputs to outputs\n",
        "w, x, y, z = -1, 0, -2, 1\n",
        "a, b = (w + x + y + z)**2, (w + x - y - z)**2\n",
        "u, v = (a + b)**2, (a - b)**2\n",
        "f = (u + v)**2\n",
        "print(f'f at {w}, {x}, {y}, {z} is {f}')\n",
        "\n",
        "# Compute the derivative using the decomposition above\n",
        "# First compute the single step partials\n",
        "df_du, df_dv = 2*(u + v), 2*(u + v)\n",
        "du_da, du_db, dv_da, dv_db = 2*(a + b), 2*(a + b), 2*(a - b), -2*(a - b)\n",
        "da_dw, db_dw = 2*(w + x + y + z), 2*(w + x - y - z)\n",
        "da_dx, db_dx = 2*(w + x + y + z), 2*(w + x - y - z)\n",
        "da_dy, db_dy = 2*(w + x + y + z), -2*(w + x - y - z)\n",
        "da_dz, db_dz = 2*(w + x + y + z), -2*(w + x - y - z)\n",
        "\n",
        "# Now compute how f changes when we change any value from output to input\n",
        "df_da, df_db = df_du*du_da + df_dv*dv_da, df_du*du_db + df_dv*dv_db\n",
        "df_dw, df_dx = df_da*da_dw + df_db*db_dw, df_da*da_dx + df_db*db_dx\n",
        "df_dy, df_dz = df_da*da_dy + df_db*db_dy, df_da*da_dz + df_db*db_dz\n",
        "\n",
        "print(f'df/dw at {w}, {x}, {y}, {z} is {df_dw}')\n",
        "print(f'df/dx at {w}, {x}, {y}, {z} is {df_dx}')\n",
        "print(f'df/dy at {w}, {x}, {y}, {z} is {df_dy}')\n",
        "print(f'df/dz at {w}, {x}, {y}, {z} is {df_dz}')"
      ]
    },
    {
      "cell_type": "markdown",
      "metadata": {
        "origin_pos": 12,
        "id": "8v94u9KluKD8"
      },
      "source": [
        "The fact that we compute derivatives from $f$ back towards the inputs rather than from the inputs forward to the outputs (as we did in the first code snippet above) is what gives this algorithm its name: *backpropagation*.  Note that there are two steps:\n",
        "1. Compute the value of the function, and the single step partials from front to back.  While not done above, this can be combined into a single *forward pass*.\n",
        "2. Compute the gradient of $f$ from back to front.  We call this the *backwards pass*.\n",
        "\n",
        "This is precisely what every deep learning algorithm implements to allow the computation of the gradient of the loss with respect to every weight in the network at one pass.  It is an astonishing fact that we have such a decomposition.\n",
        "\n",
        "All of what we did above can be done automatically by calling `tape.gradient()`.\n"
      ]
    },
    {
      "cell_type": "code",
      "source": [
        "import tensorflow as tf\n",
        "\n",
        "with tf.GradientTape() as tape:\n",
        "  # Define values for variables\n",
        "  w = tf.Variable(-1.)\n",
        "  x = tf.Variable(0.)\n",
        "  y = tf.Variable(-2.)\n",
        "  z = tf.Variable(1.)\n",
        "\n",
        "  # Define functions\n",
        "  a, b = (w + x + y + z)**2, (w + x - y - z)**2\n",
        "  u, v = (a + b)**2, (a - b)**2\n",
        "  f = (u + v)**2\n",
        "\n",
        "# Get the gradient\n",
        "df_dw, df_dx, df_dy, df_dz = tape.gradient(f, [w, x, y, z])\n",
        "\n",
        "# Extract numerical values from TF variables and print\n",
        "w, x, y, z = map(lambda x: x.numpy(), [w, x, y, z])\n",
        "print(f'df/dw at {w}, {x}, {y}, {z} is {df_dw}')\n",
        "print(f'df/dx at {w}, {x}, {y}, {z} is {df_dx}')\n",
        "print(f'df/dy at {w}, {x}, {y}, {z} is {df_dy}')\n",
        "print(f'df/dz at {w}, {x}, {y}, {z} is {df_dz}')"
      ],
      "metadata": {
        "colab": {
          "base_uri": "https://localhost:8080/"
        },
        "id": "rqMeqxBn1JyH",
        "outputId": "0566a0ae-3db4-4a7d-a02d-efa29289e445"
      },
      "execution_count": null,
      "outputs": [
        {
          "output_type": "stream",
          "name": "stdout",
          "text": [
            "df/dw at -1.0, 0.0, -2.0, 1.0 is -4096.0\n",
            "df/dx at -1.0, 0.0, -2.0, 1.0 is -4096.0\n",
            "df/dy at -1.0, 0.0, -2.0, 1.0 is -4096.0\n",
            "df/dz at -1.0, 0.0, -2.0, 1.0 is -4096.0\n"
          ]
        }
      ]
    },
    {
      "cell_type": "markdown",
      "metadata": {
        "origin_pos": 16,
        "id": "58ZmpnLXuKD9"
      },
      "source": [
        "## Hessians\n",
        "As with single variable calculus, it is useful to consider higher-order derivatives in order to get a handle on how we can obtain a better approximation to a function than using the gradient alone.\n",
        "\n",
        "There is one immediate problem one encounters when working with higher order derivatives of functions of several variables, and that is there are a large number of them.  If we have a function $f(x_1, \\ldots, x_n)$ of $n$ variables, then we can take $n^{2}$ many second derivatives, namely for any choice of $i$ and $j$:\n",
        "\n",
        "$$\n",
        "\\frac{d^2f}{dx_idx_j} = \\frac{d}{dx_i}\\left(\\frac{d}{dx_j}f\\right).\n",
        "$$\n",
        "\n",
        "This is traditionally assembled into a matrix called the *Hessian*:\n",
        "\n",
        "$$\\mathbf{H}_f = \\begin{bmatrix} \\frac{d^2f}{dx_1dx_1} & \\cdots & \\frac{d^2f}{dx_1dx_n} \\\\ \\vdots & \\ddots & \\vdots \\\\ \\frac{d^2f}{dx_ndx_1} & \\cdots & \\frac{d^2f}{dx_ndx_n} \\\\ \\end{bmatrix}.$$\n",
        "\n",
        "Not every entry of this matrix is independent.  Indeed, we can show that as long as both *mixed partials* (partial derivatives with respect to more than one variable) exist and are continuous, we can say that for any $i$, and $j$,\n",
        "\n",
        "$$\n",
        "\\frac{d^2f}{dx_idx_j} = \\frac{d^2f}{dx_jdx_i}.\n",
        "$$\n",
        "\n",
        "This follows by considering first perturbing a function in the direction of $x_i$, and then perturbing it in $x_j$ and then comparing the result of that with what happens if we perturb first $x_j$ and then $x_i$, with the knowledge that both of these orders lead to the same final change in the output of $f$.\n"
      ]
    },
    {
      "cell_type": "markdown",
      "source": [
        "\n",
        "As with single variables, we can use these derivatives to get a far better idea of how the function behaves near a point.  In particular, we can use it to find the best fitting quadratic near a point $\\mathbf{x}_0$, as we saw in a single variable.\n",
        "\n",
        "Let us see an example.  Suppose that $f(x_1, x_2) = a + b_1x_1 + b_2x_2 + c_{11}x_1^{2} + c_{12}x_1x_2 + c_{22}x_2^{2}$.  This is the general form for a quadratic in two variables.  If we look at the value of the function, its gradient, and its Hessian :eqref:`eq_hess_def`, all at the point zero:\n",
        "\n",
        "$$\n",
        "\\begin{aligned}\n",
        "f(0,0) & = a, \\\\\n",
        "\\nabla f (0,0) & = \\begin{bmatrix}b_1 \\\\ b_2\\end{bmatrix}, \\\\\n",
        "\\mathbf{H} f (0,0) & = \\begin{bmatrix}2 c_{11} & c_{12} \\\\ c_{12} & 2c_{22}\\end{bmatrix},\n",
        "\\end{aligned}\n",
        "$$\n",
        "\n",
        "we can get our original polynomial back by saying\n",
        "\n",
        "$$\n",
        "f(\\mathbf{x}) = f(0) + \\nabla f (0) \\cdot \\mathbf{x} + \\frac{1}{2}\\mathbf{x}^\\top \\mathbf{H} f (0) \\mathbf{x}.\n",
        "$$\n",
        "\n",
        "In general, if we computed this expansion any point $\\mathbf{x}_0$, we see that\n",
        "\n",
        "$$\n",
        "f(\\mathbf{x}) = f(\\mathbf{x}_0) + \\nabla f (\\mathbf{x}_0) \\cdot (\\mathbf{x}-\\mathbf{x}_0) + \\frac{1}{2}(\\mathbf{x}-\\mathbf{x}_0)^\\top \\mathbf{H} f (\\mathbf{x}_0) (\\mathbf{x}-\\mathbf{x}_0).\n",
        "$$\n",
        "\n",
        "This works for any dimensional input, and provides the best approximating quadratic to any function at a point.  To give an example, let us plot the function\n",
        "\n",
        "$$\n",
        "f(x, y) = xe^{-x^2-y^2}.\n",
        "$$\n",
        "\n",
        "One can compute that the gradient and Hessian are\n",
        "$$\n",
        "\\nabla f(x, y) = e^{-x^2-y^2}\\begin{pmatrix}1-2x^2 \\\\ -2xy\\end{pmatrix} \\; \\text{and} \\; \\mathbf{H}f(x, y) = e^{-x^2-y^2}\\begin{pmatrix} 4x^3 - 6x & 4x^2y - 2y \\\\ 4x^2y-2y &4xy^2-2x\\end{pmatrix}.\n",
        "$$\n",
        "\n",
        "And thus, with a little algebra, see that the approximating quadratic at $[-1,0]^\\top$ is\n",
        "\n",
        "$$\n",
        "f(x, y) \\approx e^{-1}\\left(-1 - (x+1) +(x+1)^2+y^2\\right).\n",
        "$$\n"
      ],
      "metadata": {
        "id": "r86JfYmA20Ll"
      }
    },
    {
      "cell_type": "code",
      "execution_count": null,
      "metadata": {
        "origin_pos": 17,
        "tab": [
          "mxnet"
        ],
        "id": "Y6ImHzK3uKD-"
      },
      "outputs": [],
      "source": [
        "# Construct grid and compute function\n",
        "x, y = np.meshgrid(np.linspace(-2, 2, 101),\n",
        "                   np.linspace(-2, 2, 101), indexing='ij')\n",
        "z = x*np.exp(- x**2 - y**2)\n",
        "\n",
        "# Compute approximating quadratic with gradient and Hessian at (1, 0)\n",
        "w = np.exp(-1)*(-1 - (x + 1) + (x + 1)**2 + y**2)"
      ]
    },
    {
      "cell_type": "code",
      "source": [
        "# Plot function\n",
        "ax = plt.figure().add_subplot(111, projection='3d')\n",
        "ax.plot_wireframe(x, y, z, **{'rstride': 10, 'cstride': 10})\n",
        "ax.plot_wireframe(x, y, w, **{'rstride': 10, 'cstride': 10}, color='purple')\n",
        "plt.xlabel('x')\n",
        "plt.ylabel('y')\n",
        "ax.set_xlim(-2, 2)\n",
        "ax.set_ylim(-2, 2)\n",
        "ax.set_zlim(-1, 1)\n",
        "ax.dist = 12"
      ],
      "metadata": {
        "colab": {
          "base_uri": "https://localhost:8080/",
          "height": 248
        },
        "id": "bZGn9rnU3GfC",
        "outputId": "b0b5fe2b-a55b-4af4-9293-7e5b6fcfb1b1"
      },
      "execution_count": null,
      "outputs": [
        {
          "output_type": "display_data",
          "data": {
            "image/png": "[encoded data removed]",
            "text/plain": [
              "<Figure size 432x288 with 1 Axes>"
            ]
          },
          "metadata": {
            "needs_background": "light"
          }
        }
      ]
    },
    {
      "cell_type": "markdown",
      "metadata": {
        "origin_pos": 20,
        "id": "aHCWDl87uKD-"
      },
      "source": [
        "This forms the basis for Newton's Algorithm (gradient descent and Newton's algorithms are two of the best known optimization algorithms), where we perform numerical optimization iteratively finding the best fitting quadratic, and then exactly minimizing that quadratic.\n"
      ]
    },
    {
      "cell_type": "markdown",
      "source": [
        "\n",
        "## A Little Matrix Calculus\n",
        "Derivatives of functions involving matrices turn out to be particularly nice.  This section can become notationally heavy, so may be skipped in a first reading, but it is useful to know how derivatives of functions involving common matrix operations are often much cleaner than one might initially anticipate, particularly given how central matrix operations are to deep learning applications.\n",
        "\n",
        "Let us begin with an example.  Suppose that we have some fixed column vector $\\boldsymbol{\\beta}$, and we want to take the product function $f(\\mathbf{x}) = \\boldsymbol{\\beta}^\\top\\mathbf{x}$, and understand how the dot product changes when we change $\\mathbf{x}$.\n",
        "\n",
        "A bit of notation that will be useful when working with matrix derivatives in ML is called the *denominator layout matrix derivative* where we assemble our partial derivatives into the shape of whatever vector, matrix, or tensor is in the denominator of the differential.  In this case, we will write\n",
        "\n",
        "$$\n",
        "\\frac{df}{d\\mathbf{x}} = \\begin{bmatrix}\n",
        "\\frac{df}{dx_1} \\\\\n",
        "\\vdots \\\\\n",
        "\\frac{df}{dx_n}\n",
        "\\end{bmatrix},\n",
        "$$\n",
        "\n",
        "where we matched the shape of the column vector $\\mathbf{x}$.\n",
        "\n",
        "If we write out our function into components this is\n",
        "\n",
        "$$\n",
        "f(\\mathbf{x}) = \\sum_{i = 1}^{n} \\beta_ix_i = \\beta_1x_1 + \\cdots + \\beta_nx_n.\n",
        "$$\n",
        "\n",
        "If we now take the partial derivative with respect to say $\\beta_1$, note that everything is zero but the first term, which is just $x_1$ multiplied by $\\beta_1$, so we obtain that\n",
        "\n",
        "$$\n",
        "\\frac{df}{dx_1} = \\beta_1,\n",
        "$$\n",
        "\n",
        "or more generally that\n",
        "\n",
        "$$\n",
        "\\frac{df}{dx_i} = \\beta_i.\n",
        "$$\n",
        "\n",
        "We can now reassemble this into a matrix to see\n",
        "\n",
        "$$\n",
        "\\frac{df}{d\\mathbf{x}} = \\begin{bmatrix}\n",
        "\\frac{df}{dx_1} \\\\\n",
        "\\vdots \\\\\n",
        "\\frac{df}{dx_n}\n",
        "\\end{bmatrix} = \\begin{bmatrix}\n",
        "\\beta_1 \\\\\n",
        "\\vdots \\\\\n",
        "\\beta_n\n",
        "\\end{bmatrix} = \\boldsymbol{\\beta}.\n",
        "$$\n",
        "\n",
        "This illustrates a few factors about matrix calculus that we often encounter:\n",
        "\n",
        "* First, The computations will get rather involved.\n",
        "* Second, The final results are much cleaner than the intermediate process, and will always look similar to the single variable case.  In this case, note that $\\frac{d}{dx}(bx) = b$ and $\\frac{d}{d\\mathbf{x}} (\\boldsymbol{\\beta}^\\top\\mathbf{x}) = \\boldsymbol{\\beta}$ are both similar.\n",
        "* Third, transposes can often appear seemingly from nowhere.  The core reason for this is the convention that we match the shape of the denominator, thus when we multiply matrices, we will need to take transposes to match back to the shape of the original term.\n"
      ],
      "metadata": {
        "id": "tNbd81oQ4U02"
      }
    }
  ],
  "metadata": {
    "kernelspec": {
      "display_name": "Python 3",
      "name": "python3"
    },
    "language_info": {
      "name": "python"
    },
    "colab": {
      "provenance": []
    }
  },
  "nbformat": 4,
  "nbformat_minor": 0
}